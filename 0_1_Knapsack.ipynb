{
 "cells": [
  {
   "cell_type": "code",
   "execution_count": 16,
   "metadata": {},
   "outputs": [
    {
     "name": "stdout",
     "output_type": "stream",
     "text": [
      "profits:\n",
      "weights:\n",
      "Weight of bucket\n",
      "8\n",
      "5\n"
     ]
    }
   ],
   "source": [
    "print(\"profits:\")\n",
    "#pr = list(map(int, input().split()))\n",
    "pr = [1,2,5,6]\n",
    "print(\"weights:\")\n",
    "#wt = list(map(int, input().split()))\n",
    "wt = [2,3,4,5]\n",
    "print(\"Weight of bucket\")\n",
    "W = int(input())\n",
    "X = knp(pr, wt, W)\n",
    "print(X)"
   ]
  },
  {
   "cell_type": "code",
   "execution_count": 15,
   "metadata": {},
   "outputs": [],
   "source": [
    "def knp(pr, wt, W):\n",
    "    m = len(pr)\n",
    "    mtx = [[0 for i in range(W+1)] for j in range(m+1)]\n",
    "    for i in range(m+1):\n",
    "        for j in range(W+1):\n",
    "            if i == 0 or j == 0:\n",
    "                mtx[i][j] = 0\n",
    "            elif wt[i-1] <= j:\n",
    "                 mtx[i][j] = max(mtx[i-1][j], pr[i-1] + mtx[i-1][j-wt[i-1]])\n",
    "            else:\n",
    "                mtx[i][j] = mtx[i-1][j]\n",
    "    return mtx[len(pr)][m]\n",
    "                    "
   ]
  },
  {
   "cell_type": "code",
   "execution_count": null,
   "metadata": {},
   "outputs": [],
   "source": []
  }
 ],
 "metadata": {
  "kernelspec": {
   "display_name": "Python 3",
   "language": "python",
   "name": "python3"
  },
  "language_info": {
   "codemirror_mode": {
    "name": "ipython",
    "version": 3
   },
   "file_extension": ".py",
   "mimetype": "text/x-python",
   "name": "python",
   "nbconvert_exporter": "python",
   "pygments_lexer": "ipython3",
   "version": "3.6.4"
  }
 },
 "nbformat": 4,
 "nbformat_minor": 2
}
