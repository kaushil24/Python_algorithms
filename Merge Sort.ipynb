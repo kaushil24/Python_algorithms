{
 "cells": [
  {
   "cell_type": "code",
   "execution_count": 5,
   "metadata": {
    "scrolled": true
   },
   "outputs": [
    {
     "name": "stdout",
     "output_type": "stream",
     "text": [
      "5 4 3 2 1\n",
      "[1, 2, 3, 4, 5]\n"
     ]
    }
   ],
   "source": [
    "a = list(map(int, input().split()))\n",
    "merge(a)\n",
    "print(a)"
   ]
  },
  {
   "cell_type": "code",
   "execution_count": 3,
   "metadata": {},
   "outputs": [],
   "source": [
    "def merge(a):\n",
    "    if len(a)>1:\n",
    "        mid = (len(a)) // 2\n",
    "        L = a[:mid]\n",
    "        R = a[mid:]\n",
    "        merge(L)\n",
    "        merge(R)\n",
    "        \n",
    "        i,j,k = 0,0,0\n",
    "        \n",
    "        while i < len(L) and j < len(R):\n",
    "            if L[i] < R[j]:\n",
    "                a[k] = L[i]\n",
    "                k = k+1\n",
    "                i = i+1\n",
    "            else:\n",
    "                a[k] = R[j]\n",
    "                k = k+1\n",
    "                j = j + 1\n",
    "        while i < len(L):\n",
    "            a[k] = L[i]\n",
    "            k = k + 1\n",
    "            i = i + 1\n",
    "        while j < len(R):\n",
    "            a[k] = R[j]\n",
    "            k =k + 1\n",
    "            j = j +1"
   ]
  }
 ],
 "metadata": {
  "kernelspec": {
   "display_name": "Python 3",
   "language": "python",
   "name": "python3"
  },
  "language_info": {
   "codemirror_mode": {
    "name": "ipython",
    "version": 3
   },
   "file_extension": ".py",
   "mimetype": "text/x-python",
   "name": "python",
   "nbconvert_exporter": "python",
   "pygments_lexer": "ipython3",
   "version": "3.6.4"
  }
 },
 "nbformat": 4,
 "nbformat_minor": 2
}
