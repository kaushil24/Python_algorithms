{
 "cells": [
  {
   "cell_type": "code",
   "execution_count": 9,
   "metadata": {},
   "outputs": [
    {
     "name": "stdout",
     "output_type": "stream",
     "text": [
      "aaaaabcde bcabcxef\n",
      "aaaaabcde bcabcxef\n",
      "4\n"
     ]
    }
   ],
   "source": [
    "x1, x2 = map(str, input().split())\n",
    "print(x1,x2)\n",
    "x1 = list(x1)\n",
    "x2 = list(x2)\n",
    "com = lcs(x1, x2)\n",
    "print(com)"
   ]
  },
  {
   "cell_type": "code",
   "execution_count": 6,
   "metadata": {},
   "outputs": [],
   "source": [
    "def lcs(x1, x2):\n",
    "    m = len(x2)\n",
    "    n = len(x1)\n",
    "    mtx = [[0 for i in range(n+1)] for j in range(m+1)]\n",
    "    for i in range(m+1):\n",
    "        for j in range(n+1):\n",
    "            if i==0 and j == 0:\n",
    "                mtx[i][j] = 0\n",
    "            elif x1[j-1] == x2[i-1]:\n",
    "                mtx[i][j] = mtx[i-1][j-1] + 1\n",
    "            else:\n",
    "                mtx[i][j] = max(mtx[i][j-1], mtx[i-1][j])\n",
    "    return mtx[i][j]"
   ]
  },
  {
   "cell_type": "code",
   "execution_count": null,
   "metadata": {},
   "outputs": [],
   "source": []
  }
 ],
 "metadata": {
  "kernelspec": {
   "display_name": "Python 3",
   "language": "python",
   "name": "python3"
  },
  "language_info": {
   "codemirror_mode": {
    "name": "ipython",
    "version": 3
   },
   "file_extension": ".py",
   "mimetype": "text/x-python",
   "name": "python",
   "nbconvert_exporter": "python",
   "pygments_lexer": "ipython3",
   "version": "3.6.4"
  }
 },
 "nbformat": 4,
 "nbformat_minor": 2
}
