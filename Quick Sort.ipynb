{
 "cells": [
  {
   "cell_type": "markdown",
   "metadata": {},
   "source": [
    "### Code inspired from geeksforgeeks and for understaning watch https://www.youtube.com/watch?v=CB_NCoxzQnk video"
   ]
  },
  {
   "cell_type": "code",
   "execution_count": 7,
   "metadata": {},
   "outputs": [
    {
     "name": "stdout",
     "output_type": "stream",
     "text": [
      "5 4 3 2 1\n",
      "[1, 2, 3, 4, 5]\n"
     ]
    }
   ],
   "source": [
    "a = []\n",
    "a = list(map(int, input().split()))\n",
    "qs(a, 0, len(a)-1)\n",
    "print(a)"
   ]
  },
  {
   "cell_type": "code",
   "execution_count": 5,
   "metadata": {},
   "outputs": [],
   "source": [
    "def qs(a, low, high):\n",
    "    if low < high:\n",
    "        \n",
    "        p = part(a, low, high)\n",
    "        \n",
    "        qs(a, low, p-1)\n",
    "        qs(a, p+1, high)"
   ]
  },
  {
   "cell_type": "code",
   "execution_count": 6,
   "metadata": {},
   "outputs": [],
   "source": [
    "def part(a, low, high):\n",
    "    i = low - 1\n",
    "    piv = a[high]\n",
    "    \n",
    "    for j in range (low, high):\n",
    "        if a[j] <= piv:\n",
    "            i+=1\n",
    "            a[i], a[j] = a[j], a[i]\n",
    "            \n",
    "    a[i+1], a[high] = a[high], a[i+1]\n",
    "    return (i+1)"
   ]
  }
 ],
 "metadata": {
  "kernelspec": {
   "display_name": "Python 3",
   "language": "python",
   "name": "python3"
  },
  "language_info": {
   "codemirror_mode": {
    "name": "ipython",
    "version": 3
   },
   "file_extension": ".py",
   "mimetype": "text/x-python",
   "name": "python",
   "nbconvert_exporter": "python",
   "pygments_lexer": "ipython3",
   "version": "3.6.4"
  }
 },
 "nbformat": 4,
 "nbformat_minor": 2
}
